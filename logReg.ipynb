{
 "cells": [
  {
   "cell_type": "code",
   "execution_count": 26,
   "id": "1e49ad1c-68ed-46f1-9631-dd0effb448dd",
   "metadata": {},
   "outputs": [],
   "source": [
    "import numpy as np \n",
    "import pandas as pd \n",
    "from sklearn.linear_model import LogisticRegression\n",
    "from sklearn.model_selection import train_test_split\n",
    "from sklearn.metrics import accuracy_score,confusion_matrix , classification_report\n"
   ]
  },
  {
   "cell_type": "code",
   "execution_count": 35,
   "id": "0feb5bbf-d21b-402f-a6e4-37657520508e",
   "metadata": {},
   "outputs": [],
   "source": [
    "data = {\n",
    "    \"Feature1\": [2.5, 3.0, 3.5, 1.0, 1.5, 2.0, 6.0, 6.5, 7.0, 5.5, 5.0, 4.5],\n",
    "    \"Feature2\": [1.0, 1.5, 2.0, 0.5, 1.0, 1.5, 3.0, 3.5, 4.0, 2.5, 2.0, 1.5],\n",
    "    \"Target\": [0, 0, 0, 0, 0, 0, 1, 1, 1, 1, 1, 1]\n",
    "}\n",
    "\n",
    "df = pd.DataFrame(data)\n",
    "\n",
    "x_train = df[[\"Feature1\",\"Feature2\"]]\n",
    "target = df[\"Target\"]\n",
    "\n",
    "x_train, x_test, y_train, y_test = train_test_split(x_train, target, test_size=0.2, random_state=42)"
   ]
  },
  {
   "cell_type": "code",
   "execution_count": 36,
   "id": "b6dfb560-bc18-4ca9-a86b-61abcc7cd5ca",
   "metadata": {},
   "outputs": [],
   "source": [
    "model = LogisticRegression()\n",
    "model.fit(x_train ,y_train)\n",
    "\n",
    "prediction  = model.predict(x_test) "
   ]
  },
  {
   "cell_type": "code",
   "execution_count": 37,
   "id": "e5c2226b-f2c2-4f56-9199-c7f55dee77f2",
   "metadata": {},
   "outputs": [],
   "source": [
    "accuracy = accuracy_score(y_test, prediction)\n",
    "conf_matrix = confusion_matrix(y_test, prediction)\n",
    "class_report = classification_report(y_test, prediction, zero_division=0)"
   ]
  },
  {
   "cell_type": "code",
   "execution_count": 38,
   "id": "bc03d7a2-bba1-46b0-beee-f15d46f30e03",
   "metadata": {},
   "outputs": [
    {
     "name": "stdout",
     "output_type": "stream",
     "text": [
      "Accuracy: 1.0\n",
      "Confusion Matrix:\n",
      " [[1 0]\n",
      " [0 2]]\n",
      "Classification Report:\n",
      "               precision    recall  f1-score   support\n",
      "\n",
      "           0       1.00      1.00      1.00         1\n",
      "           1       1.00      1.00      1.00         2\n",
      "\n",
      "    accuracy                           1.00         3\n",
      "   macro avg       1.00      1.00      1.00         3\n",
      "weighted avg       1.00      1.00      1.00         3\n",
      "\n"
     ]
    }
   ],
   "source": [
    "print(\"Accuracy:\", accuracy)\n",
    "print(\"Confusion Matrix:\\n\", conf_matrix)\n",
    "print(\"Classification Report:\\n\", class_report)"
   ]
  },
  {
   "cell_type": "code",
   "execution_count": null,
   "id": "231ffef4-04b2-4b23-96ba-63a5b3bd968b",
   "metadata": {},
   "outputs": [],
   "source": []
  },
  {
   "cell_type": "code",
   "execution_count": null,
   "id": "59c9dae7-5233-4582-801f-1799b677aba0",
   "metadata": {},
   "outputs": [],
   "source": []
  }
 ],
 "metadata": {
  "kernelspec": {
   "display_name": "Python 3 (ipykernel)",
   "language": "python",
   "name": "python3"
  },
  "language_info": {
   "codemirror_mode": {
    "name": "ipython",
    "version": 3
   },
   "file_extension": ".py",
   "mimetype": "text/x-python",
   "name": "python",
   "nbconvert_exporter": "python",
   "pygments_lexer": "ipython3",
   "version": "3.12.3"
  }
 },
 "nbformat": 4,
 "nbformat_minor": 5
}
