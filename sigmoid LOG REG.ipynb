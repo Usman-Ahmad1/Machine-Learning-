{
 "cells": [
  {
   "cell_type": "code",
   "execution_count": 19,
   "id": "a8c330a7-aefb-42bc-97c8-6fca0c7835f0",
   "metadata": {},
   "outputs": [
    {
     "name": "stdout",
     "output_type": "stream",
     "text": [
      "input array is  =  [1 2 3]\n",
      "exp array  is =  [ 2.71828183  7.3890561  20.08553692]\n"
     ]
    }
   ],
   "source": [
    "import numpy as np\n",
    "\n",
    "input_array= np.array([1,2,3])\n",
    "# for callculation of  e** -z\n",
    "exp_array = np.exp(input_array)\n",
    "\n",
    "print('input array is  = ',input_array)\n",
    "print('exp array  is = ', exp_array)"
   ]
  },
  {
   "cell_type": "code",
   "execution_count": 20,
   "id": "451e7003-cd46-4496-b0c2-c4f83c269d61",
   "metadata": {},
   "outputs": [],
   "source": [
    "def sigmoid (z):\n",
    "\n",
    "    g =1/(1+np.exp(-z))\n",
    "    return g"
   ]
  },
  {
   "cell_type": "code",
   "execution_count": 29,
   "id": "4d059b4d-057d-41f9-b81f-857fbbeb8bc5",
   "metadata": {},
   "outputs": [
    {
     "name": "stdout",
     "output_type": "stream",
     "text": [
      "sigmoide function for array = [2.20274658e+04 8.10408393e+03 2.98195799e+03 1.09763316e+03\n",
      " 4.04428793e+02 1.49413159e+02 5.55981500e+01 2.10855369e+01\n",
      " 8.38905610e+00 3.71828183e+00 2.00000000e+00 1.36787944e+00\n",
      " 1.13533528e+00 1.04978707e+00 1.01831564e+00 1.00673795e+00\n",
      " 1.00247875e+00 1.00091188e+00 1.00033546e+00 1.00012341e+00]\n"
     ]
    }
   ],
   "source": [
    "# let generate the the sigmoid for array \n",
    "z_temp = np.arange(-10,10)\n",
    "\n",
    "y= sigmoid(z_temp)\n",
    "print(f\"sigmoide function for array = {y}\")\n"
   ]
  },
  {
   "cell_type": "code",
   "execution_count": null,
   "id": "42ab0a60-e086-4fc4-8026-b017b513aa4d",
   "metadata": {},
   "outputs": [],
   "source": []
  }
 ],
 "metadata": {
  "kernelspec": {
   "display_name": "Python 3 (ipykernel)",
   "language": "python",
   "name": "python3"
  },
  "language_info": {
   "codemirror_mode": {
    "name": "ipython",
    "version": 3
   },
   "file_extension": ".py",
   "mimetype": "text/x-python",
   "name": "python",
   "nbconvert_exporter": "python",
   "pygments_lexer": "ipython3",
   "version": "3.12.3"
  }
 },
 "nbformat": 4,
 "nbformat_minor": 5
}
