{
 "cells": [
  {
   "cell_type": "code",
   "execution_count": 27,
   "id": "7e15e2a9-d9d7-4cc0-8f8f-7e18159eb6cf",
   "metadata": {},
   "outputs": [],
   "source": [
    "import numpy as np \n",
    "x_train = np.array([[0.5, 1.5], [1, 1], [1.5, 0.5], [3, 0.5], [2, 2], [1, 2.5]])  # m = training example and n feature in training exam\n",
    "y_train = np.array([0,0,0,1,1,1]) # out put "
   ]
  },
  {
   "cell_type": "code",
   "execution_count": 28,
   "id": "b50f56c1-e87f-4b3d-a8af-fc9c52487e7d",
   "metadata": {},
   "outputs": [],
   "source": [
    "def pred(w,x,b):\n",
    "    return np.dot(x,w)+b"
   ]
  },
  {
   "cell_type": "code",
   "execution_count": 35,
   "id": "29ff4ac5-5e22-4854-abf0-913dd278a982",
   "metadata": {},
   "outputs": [
    {
     "name": "stdout",
     "output_type": "stream",
     "text": [
      "0.3668667864055174\n"
     ]
    }
   ],
   "source": [
    "def compute_cost (x, y,w,b):\n",
    "    m = len(y)\n",
    "    z= pred(w,x,b) \n",
    "\n",
    " # use sigmoid function \n",
    "\n",
    "    sigmoid = 1/(1+np.exp(-z))\n",
    "# compute the cost function \n",
    "\n",
    "    cost = -(1/m)*np.sum(y * np.log(sigmoid) +(1 - y)* np.log(1 - sigmoid))\n",
    "    return cost \n",
    "w_ = np.array([1,1])\n",
    "b_=-3\n",
    "out_put = compute_cost (x_train , y_train ,w_ , b_ )\n",
    "print(out_put)\n",
    "   \n",
    "   "
   ]
  },
  {
   "cell_type": "code",
   "execution_count": 11,
   "id": "ea7262a1-c3b6-4990-834c-1c62dcb4da35",
   "metadata": {},
   "outputs": [],
   "source": [
    "# gradient descent for logistic regression \n",
    "\n",
    "import numpy as np\n",
    "x_train = np.array([[0.5, 1.5], [1, 1], [1.5, 0.5], [3, 0.5], [2, 2], [1, 2.5]])  # m = training example and n feature in training exam\n",
    "y_train = np.array([0,0,0,1,1,1]) "
   ]
  },
  {
   "cell_type": "code",
   "execution_count": 12,
   "id": "28687ac7-fab0-4a37-8c4e-29c59dc3455f",
   "metadata": {},
   "outputs": [],
   "source": [
    "n = x_train.shape[1]\n",
    "w = np.random.randn(n) # take the w random \n",
    "b=0"
   ]
  },
  {
   "cell_type": "code",
   "execution_count": 13,
   "id": "d8a9d2d5-dac8-420a-be6c-5aa0efae5555",
   "metadata": {},
   "outputs": [],
   "source": [
    "def pred (w,x, b):\n",
    "    return np.dot(x,w)+b"
   ]
  },
  {
   "cell_type": "code",
   "execution_count": 14,
   "id": "329b5efa-06a6-434f-8592-b0cca26cc35e",
   "metadata": {},
   "outputs": [],
   "source": [
    "def compute_cost(x,y,w,b):\n",
    "    z = pred(w,x,b)\n",
    "\n",
    "    sigmoid = 1/(1+np.exp(-z))\n",
    "\n",
    "    m = len(y)\n",
    "    cost =-(1/m)* np.sum(y*np.log(sigmoid)+(1-y)*np.log(1-sigmoid ))\n",
    "    return cost \n",
    "\n",
    "    "
   ]
  },
  {
   "cell_type": "code",
   "execution_count": 19,
   "id": "774615d4-52c5-4572-82d9-b155df967fe4",
   "metadata": {},
   "outputs": [
    {
     "name": "stdout",
     "output_type": "stream",
     "text": [
      "[0.7086633621226085, 0.6967878347002162, 0.6866768461840446, 0.6780388120575143, 0.6706306316471801, 0.664250038461297, 0.6587289808151411, 0.6539279585177775, 0.649731220687619, 0.6460427225693692] [0, 1, 2, 3, 4, 5, 6, 7, 8, 9]\n"
     ]
    }
   ],
   "source": [
    "def gradeint_D(x,y,w,b):\n",
    "    alpha =0.01\n",
    "    epoches =10\n",
    "    m=len(y)\n",
    "    cost =[]\n",
    "    it =[]\n",
    "    for i in range (epoches):\n",
    "        pred_for_G_D = pred(w,x,b)\n",
    "        dw = np.dot(x.T,pred_for_G_D - y)/m\n",
    "        db = np.sum(pred_for_G_D - y)\n",
    "\n",
    "        w = w - alpha * dw\n",
    "        b = b - alpha * db\n",
    "\n",
    "        cost.append(compute_cost(x,y,w,b))\n",
    "        it.append(i)\n",
    "    return cost , it, w, b\n",
    "\n",
    "cost,it,w,b = gradeint_D(x_train,y_train,w,b)\n",
    "print(cost,it)"
   ]
  },
  {
   "cell_type": "code",
   "execution_count": null,
   "id": "3b585fba-9c3b-4259-a8da-af1a38892da1",
   "metadata": {},
   "outputs": [],
   "source": [
    "# after it treshold is applied on test data set\n",
    "\n",
    "\n",
    "#   preds=pred(x_test,ww,bb)\n",
    "#   preds=np.where(preds>=0.5,1,0)\n",
    "#   np.mean(preds==y_test) * 100\n",
    "\n",
    "\n",
    "\n",
    "   # select the data set and then split it in to ( test and train set ) then apply it on treshold condition "
   ]
  }
 ],
 "metadata": {
  "kernelspec": {
   "display_name": "Python 3 (ipykernel)",
   "language": "python",
   "name": "python3"
  },
  "language_info": {
   "codemirror_mode": {
    "name": "ipython",
    "version": 3
   },
   "file_extension": ".py",
   "mimetype": "text/x-python",
   "name": "python",
   "nbconvert_exporter": "python",
   "pygments_lexer": "ipython3",
   "version": "3.12.3"
  }
 },
 "nbformat": 4,
 "nbformat_minor": 5
}
